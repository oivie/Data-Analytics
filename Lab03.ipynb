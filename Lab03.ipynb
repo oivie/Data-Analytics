{
 "cells": [
  {
   "cell_type": "markdown",
   "metadata": {
    "collapsed": true
   },
   "source": [
    "# Lab_3\n"
   ]
  },
  {
   "cell_type": "markdown",
   "metadata": {},
   "source": [
    "The file \"Purchase_Data.csv\" contains purchase data at a Chinese supermarket for various products.  Read this csv into a dataframe called df_data and use the head() method to check that you have read in the data correctly. Make sure you import pandas."
   ]
  },
  {
   "cell_type": "code",
   "execution_count": 1,
   "metadata": {},
   "outputs": [
    {
     "data": {
      "text/html": [
       "<div>\n",
       "<style scoped>\n",
       "    .dataframe tbody tr th:only-of-type {\n",
       "        vertical-align: middle;\n",
       "    }\n",
       "\n",
       "    .dataframe tbody tr th {\n",
       "        vertical-align: top;\n",
       "    }\n",
       "\n",
       "    .dataframe thead th {\n",
       "        text-align: right;\n",
       "    }\n",
       "</style>\n",
       "<table border=\"1\" class=\"dataframe\">\n",
       "  <thead>\n",
       "    <tr style=\"text-align: right;\">\n",
       "      <th></th>\n",
       "      <th>invoice_number</th>\n",
       "      <th>Name</th>\n",
       "      <th>invoice_time</th>\n",
       "      <th>Products</th>\n",
       "      <th>num_item</th>\n",
       "      <th>price</th>\n",
       "      <th>Discount%</th>\n",
       "      <th>Delivery Fee%</th>\n",
       "      <th>Brand</th>\n",
       "    </tr>\n",
       "  </thead>\n",
       "  <tbody>\n",
       "    <tr>\n",
       "      <th>0</th>\n",
       "      <td>OD103719706054443200</td>\n",
       "      <td>G3M1R1</td>\n",
       "      <td>23-08-2015 00:00</td>\n",
       "      <td>Kitchen Appliances</td>\n",
       "      <td>1.0</td>\n",
       "      <td>1370.33</td>\n",
       "      <td>0</td>\n",
       "      <td>13</td>\n",
       "      <td>Nova</td>\n",
       "    </tr>\n",
       "    <tr>\n",
       "      <th>1</th>\n",
       "      <td>OD106420064045076000</td>\n",
       "      <td>G3M1R1</td>\n",
       "      <td>7/1/2016 0:00</td>\n",
       "      <td>Health Care</td>\n",
       "      <td>1.0</td>\n",
       "      <td>1164.76</td>\n",
       "      <td>0</td>\n",
       "      <td>9</td>\n",
       "      <td>Omron</td>\n",
       "    </tr>\n",
       "    <tr>\n",
       "      <th>2</th>\n",
       "      <td>OD106420064045076001</td>\n",
       "      <td>G3M1R1</td>\n",
       "      <td>7/1/2016 0:00</td>\n",
       "      <td>Books</td>\n",
       "      <td>1.0</td>\n",
       "      <td>596.67</td>\n",
       "      <td>0</td>\n",
       "      <td>23</td>\n",
       "      <td>Johnson</td>\n",
       "    </tr>\n",
       "    <tr>\n",
       "      <th>3</th>\n",
       "      <td>OD109711988579254000</td>\n",
       "      <td>G3M1R2</td>\n",
       "      <td>17-07-2017 00:00</td>\n",
       "      <td>Fitness Accessories</td>\n",
       "      <td>1.0</td>\n",
       "      <td>199.00</td>\n",
       "      <td>0</td>\n",
       "      <td>0</td>\n",
       "      <td>HAANS</td>\n",
       "    </tr>\n",
       "    <tr>\n",
       "      <th>4</th>\n",
       "      <td>OD109711988579254000</td>\n",
       "      <td>G3M1R2</td>\n",
       "      <td>18-07-2017 00:00</td>\n",
       "      <td>Health Supplements</td>\n",
       "      <td>1.0</td>\n",
       "      <td>4162.00</td>\n",
       "      <td>0</td>\n",
       "      <td>0</td>\n",
       "      <td>Muscletech</td>\n",
       "    </tr>\n",
       "  </tbody>\n",
       "</table>\n",
       "</div>"
      ],
      "text/plain": [
       "         invoice_number    Name      invoice_time             Products  \\\n",
       "0  OD103719706054443200  G3M1R1  23-08-2015 00:00   Kitchen Appliances   \n",
       "1  OD106420064045076000  G3M1R1     7/1/2016 0:00          Health Care   \n",
       "2  OD106420064045076001  G3M1R1     7/1/2016 0:00                Books   \n",
       "3  OD109711988579254000  G3M1R2  17-07-2017 00:00  Fitness Accessories   \n",
       "4  OD109711988579254000  G3M1R2  18-07-2017 00:00   Health Supplements   \n",
       "\n",
       "   num_item    price  Discount%  Delivery Fee%       Brand  \n",
       "0       1.0  1370.33          0             13        Nova  \n",
       "1       1.0  1164.76          0              9       Omron  \n",
       "2       1.0   596.67          0             23     Johnson  \n",
       "3       1.0   199.00          0              0       HAANS  \n",
       "4       1.0  4162.00          0              0  Muscletech  "
      ]
     },
     "execution_count": 1,
     "metadata": {},
     "output_type": "execute_result"
    }
   ],
   "source": [
    "import pandas as pd\n",
    "\n",
    "#The header=0 means column names are in the first row\n",
    "df=pd.read_csv(\"Purchase_Data.csv\", header=0)\n",
    "\n",
    "#The head method returns the first five rows\n",
    "df.head()"
   ]
  },
  {
   "cell_type": "markdown",
   "metadata": {},
   "source": [
    "Use the dtypes attribute to view how each column is stored"
   ]
  },
  {
   "cell_type": "code",
   "execution_count": 2,
   "metadata": {},
   "outputs": [
    {
     "data": {
      "text/plain": [
       "invoice_number     object\n",
       "Name               object\n",
       "invoice_time       object\n",
       "Products           object\n",
       "num_item          float64\n",
       "price             float64\n",
       "Discount%           int64\n",
       "Delivery Fee%       int64\n",
       "Brand              object\n",
       "dtype: object"
      ]
     },
     "execution_count": 2,
     "metadata": {},
     "output_type": "execute_result"
    }
   ],
   "source": [
    "# .dtypes Returns the datatype of each column \n",
    "df.dtypes"
   ]
  },
  {
   "cell_type": "markdown",
   "metadata": {},
   "source": [
    "Slice the first two columns using .loc and store the result in a variable called result_1."
   ]
  },
  {
   "cell_type": "code",
   "execution_count": 5,
   "metadata": {},
   "outputs": [
    {
     "name": "stdout",
     "output_type": "stream",
     "text": [
      "            invoice_number     Name\n",
      "0     OD103719706054443200   G3M1R1\n",
      "1     OD106420064045076000   G3M1R1\n",
      "2     OD106420064045076001   G3M1R1\n",
      "3     OD109711988579254000   G3M1R2\n",
      "4     OD109711988579254000   G3M1R2\n",
      "...                    ...      ...\n",
      "3174      FAC5OU2100002091  G1M2R12\n",
      "3175      FADVJD2100007635  G1M2R12\n",
      "3176  OD117537329774872000   G1M1R5\n",
      "3177  OD120189180140808000   G1M1R5\n",
      "3178  OD506851927718236000   G1M1R8\n",
      "\n",
      "[3179 rows x 2 columns]\n"
     ]
    }
   ],
   "source": [
    "# Using .loc to select all rows and the first two columns.\n",
    "# .loc is used for label-based indexing. \n",
    "# The first argument (:) means \"all rows\", \n",
    "# and the list ['invoice_number', 'Name'] specifies the columns\n",
    "result_1 = df.loc[:, ['invoice_number', 'Name']]\n",
    "print(result_1)"
   ]
  },
  {
   "cell_type": "markdown",
   "metadata": {},
   "source": [
    "Slice the first two rows using .loc and store the result in a variable called result_2."
   ]
  },
  {
   "cell_type": "code",
   "execution_count": 6,
   "metadata": {},
   "outputs": [
    {
     "name": "stdout",
     "output_type": "stream",
     "text": [
      "         invoice_number    Name      invoice_time            Products  \\\n",
      "0  OD103719706054443200  G3M1R1  23-08-2015 00:00  Kitchen Appliances   \n",
      "1  OD106420064045076000  G3M1R1     7/1/2016 0:00         Health Care   \n",
      "\n",
      "   num_item    price  Discount%  Delivery Fee%  Brand  \n",
      "0       1.0  1370.33          0             13   Nova  \n",
      "1       1.0  1164.76          0              9  Omron  \n"
     ]
    }
   ],
   "source": [
    "# Using .loc to select the first two rows and all columns.\n",
    "# The range 0:1 specifies the rows \n",
    "# The second argument (:) means \"all columns\". \n",
    "result_2 = df.loc[0:1, :]\n",
    "print(result_2)"
   ]
  },
  {
   "cell_type": "markdown",
   "metadata": {},
   "source": [
    "Slice the first four rows and the first five columns and store the result in a variable called result_3."
   ]
  },
  {
   "cell_type": "code",
   "execution_count": 7,
   "metadata": {},
   "outputs": [
    {
     "name": "stdout",
     "output_type": "stream",
     "text": [
      "         invoice_number    Name      invoice_time             Products  \\\n",
      "0  OD103719706054443200  G3M1R1  23-08-2015 00:00   Kitchen Appliances   \n",
      "1  OD106420064045076000  G3M1R1     7/1/2016 0:00          Health Care   \n",
      "2  OD106420064045076001  G3M1R1     7/1/2016 0:00                Books   \n",
      "3  OD109711988579254000  G3M1R2  17-07-2017 00:00  Fitness Accessories   \n",
      "\n",
      "   num_item  \n",
      "0       1.0  \n",
      "1       1.0  \n",
      "2       1.0  \n",
      "3       1.0  \n"
     ]
    }
   ],
   "source": [
    "# Using .loc to select the first four rows and the first five columns.\n",
    "# 0:3: This specifies the rows \n",
    "# df.columns[:5]: This specifies the first five columns. \n",
    "result_3 = df.loc[0:3, df.columns[:5]]\n",
    "print(result_3)"
   ]
  },
  {
   "cell_type": "markdown",
   "metadata": {},
   "source": [
    "Slice rows 0,4,6 and columns invoice time and price and store the result in variable called result_4."
   ]
  },
  {
   "cell_type": "code",
   "execution_count": 8,
   "metadata": {},
   "outputs": [
    {
     "name": "stdout",
     "output_type": "stream",
     "text": [
      "       invoice_time    price\n",
      "0  23-08-2015 00:00  1370.33\n",
      "4  18-07-2017 00:00  4162.00\n",
      "6  17-10-2017 00:00   696.00\n"
     ]
    }
   ],
   "source": [
    "# Using .loc to select rows 0, 4, 6 and columns 'invoice_time' and 'price'\n",
    "# [0, 4, 6] specifies the rows with indices 0, 4, and 6.\n",
    "# ['invoice_time', 'price'] specifies the columns 'invoice_time' and 'price'.\n",
    "result_4 = df.loc[[0, 4, 6], ['invoice_time', 'price']]\n",
    "print(result_4)"
   ]
  },
  {
   "cell_type": "markdown",
   "metadata": {},
   "source": [
    "Store the number rows in a variable called num_rows."
   ]
  },
  {
   "cell_type": "code",
   "execution_count": 10,
   "metadata": {},
   "outputs": [
    {
     "name": "stdout",
     "output_type": "stream",
     "text": [
      "3179\n"
     ]
    }
   ],
   "source": [
    "#  shape attribute which returns a tuple \n",
    "# with the first element being the number of rows and the second element being the number of columns. \n",
    "num_rows = df.shape[0]\n",
    "print(num_rows)"
   ]
  },
  {
   "cell_type": "markdown",
   "metadata": {},
   "source": [
    "Print out the last row of the data to dataframe. **Hint:** use the variable num_rows from the previous exercise."
   ]
  },
  {
   "cell_type": "code",
   "execution_count": 11,
   "metadata": {},
   "outputs": [
    {
     "name": "stdout",
     "output_type": "stream",
     "text": [
      "invoice_number    OD506851927718236000\n",
      "Name                            G1M1R8\n",
      "invoice_time          20-08-2020 00:00\n",
      "Products            Kitchen Appliances\n",
      "num_item                           1.0\n",
      "price                            849.0\n",
      "Discount%                            0\n",
      "Delivery Fee%                        0\n",
      "Brand                          Philips\n",
      "Name: 3178, dtype: object\n"
     ]
    }
   ],
   "source": [
    "# To print out the last row of the dataframe using the num_rows variable, with the .iloc[] indexer. \n",
    "last_row = df.iloc[num_rows - 1]\n",
    "print(last_row)"
   ]
  },
  {
   "cell_type": "markdown",
   "metadata": {},
   "source": [
    "Compute the average and max price charged.  Store the results in variables called avg_price and max_price"
   ]
  },
  {
   "cell_type": "code",
   "execution_count": 15,
   "metadata": {},
   "outputs": [
    {
     "name": "stdout",
     "output_type": "stream",
     "text": [
      "Average price: 1962.638181818182, Max price is: 102990.0\n"
     ]
    }
   ],
   "source": [
    "# the avg_price variable will hold the average price charged\n",
    "# the max_price variable will hold the maximum price charged.\n",
    "avg_price = df['price'].mean()\n",
    "max_price = df['price'].max()\n",
    "print(\"Average price: \" + str(avg_price) + \", Max price is: \" + str(max_price))"
   ]
  },
  {
   "cell_type": "markdown",
   "metadata": {},
   "source": [
    "Compute the average price and average number of items purchased with only a single call to the mean() method. Store these averages in avg_price and avg_num_items."
   ]
  },
  {
   "cell_type": "code",
   "execution_count": 17,
   "metadata": {},
   "outputs": [
    {
     "name": "stdout",
     "output_type": "stream",
     "text": [
      "price       1962.638182\n",
      "num_item       1.156968\n",
      "dtype: float64 1962.638181818182 1.1569675998741742\n"
     ]
    }
   ],
   "source": [
    "#  Selected the two columns of interest ('price' and 'num_item') and apply the mean() method to both columns simultaneously.\n",
    "# The result (averages) is a Series with the averages of the two columns.\n",
    "# Then extract the individual averages from the averages Series and store them in avg_price and avg_num_items respectively.\n",
    "averages = df[['price', 'num_item']].mean()\n",
    "avg_price = averages['price']\n",
    "avg_num_items = averages['num_item']\n",
    "print(averages, avg_price, avg_num_items)"
   ]
  },
  {
   "cell_type": "markdown",
   "metadata": {},
   "source": [
    "Create a column called \"total\", which is the product of the price and num_item columns."
   ]
  },
  {
   "cell_type": "code",
   "execution_count": 19,
   "metadata": {},
   "outputs": [
    {
     "name": "stdout",
     "output_type": "stream",
     "text": [
      "0       1370.33\n",
      "1       1164.76\n",
      "2        596.67\n",
      "3        199.00\n",
      "4       4162.00\n",
      "         ...   \n",
      "3174     563.00\n",
      "3175     234.00\n",
      "3176     358.00\n",
      "3177     500.00\n",
      "3178     849.00\n",
      "Name: total, Length: 3179, dtype: float64\n"
     ]
    }
   ],
   "source": [
    "df['total'] = df['price'] * df['num_item']"
   ]
  },
  {
   "cell_type": "markdown",
   "metadata": {},
   "source": [
    "What is the avgerage price of the three most expensive purchases? "
   ]
  },
  {
   "cell_type": "code",
   "execution_count": 20,
   "metadata": {},
   "outputs": [
    {
     "name": "stdout",
     "output_type": "stream",
     "text": [
      "            invoice_number    Name      invoice_time                Products  \\\n",
      "1846      FAH4552200035429  G4M1R1     9/5/2021 0:00                 Laptops   \n",
      "310       FADZXG2100028546  G3M3R8  15-06-2020 00:00  Automotive Accessories   \n",
      "1808  OD253883930097580000  G6M5R2   10/11/2020 0:00                 Mobiles   \n",
      "\n",
      "      num_item     price  Discount%  Delivery Fee%  Brand     total  \n",
      "1846       1.0  102990.0          1              0   ASUS  102990.0  \n",
      "310        1.0   81990.0          1              0   Asus   81990.0  \n",
      "1808       1.0   68000.0         24              0  Apple   68000.0   84326.66666666667\n"
     ]
    }
   ],
   "source": [
    "# 1) Sort the DataFrame by the \"price\" column in descending order.\n",
    "# 2) Took the first three rows.\n",
    "# 3) Compute the mean of their \"price\" column.\n",
    "# The nlargest() method returns the first n occurrences ordered by the specified column in descending order\n",
    "top_three_expensive = df.nlargest(3, 'price')\n",
    "average_of_top_three = top_three_expensive['price'].mean()\n",
    "print(top_three_expensive, average_of_top_three )"
   ]
  },
  {
   "cell_type": "markdown",
   "metadata": {},
   "source": [
    "How many different products are there?"
   ]
  },
  {
   "cell_type": "code",
   "execution_count": 21,
   "metadata": {},
   "outputs": [
    {
     "name": "stdout",
     "output_type": "stream",
     "text": [
      "228\n"
     ]
    }
   ],
   "source": [
    "# The nunique() method returns the number of unique values in a Series or DataFrame.\n",
    "num_unique_products = df['Products'].nunique()\n",
    "print(num_unique_products)"
   ]
  },
  {
   "cell_type": "markdown",
   "metadata": {},
   "source": [
    "Find the difference between the mean and median of the column total.  Use the describe() method and then index the dataframe it returns."
   ]
  },
  {
   "cell_type": "code",
   "execution_count": 22,
   "metadata": {},
   "outputs": [
    {
     "name": "stdout",
     "output_type": "stream",
     "text": [
      "1763.350242214533\n"
     ]
    }
   ],
   "source": [
    "# Using describe() method on the 'total' column\n",
    "desc = df['total'].describe()\n",
    "\n",
    "# desc['mean'] retrieves the mean of the 'total' column.\n",
    "# desc['50%'] retrieves the median of the 'total' column.\n",
    "# Finding the difference between mean and median (50th percentile)\n",
    "difference = desc['mean'] - desc['50%']\n",
    "\n",
    "print(difference)"
   ]
  },
  {
   "cell_type": "markdown",
   "metadata": {},
   "source": [
    "Use the drop() method to delete the column total from the dataframe df_data."
   ]
  },
  {
   "cell_type": "code",
   "execution_count": 8,
   "metadata": {},
   "outputs": [],
   "source": [
    "# To delete the column \"total\" from the dataframe df_data, you can use the drop() method \n",
    "# specifying axis=1 to indicate that you're dropping a column (not a row).\n",
    "df_data.drop('total', axis=1, inplace=True)"
   ]
  },
  {
   "cell_type": "markdown",
   "metadata": {},
   "source": [
    "Let's dig a little deeper into the data set and answer some basic question."
   ]
  },
  {
   "cell_type": "code",
   "execution_count": 1,
   "metadata": {},
   "outputs": [],
   "source": [
    "#Write your code here\n"
   ]
  },
  {
   "cell_type": "markdown",
   "metadata": {},
   "source": [
    "First, covert the column invoice time to a datetime column. Print out the new column types to make sure this was done correctly"
   ]
  },
  {
   "cell_type": "code",
   "execution_count": 23,
   "metadata": {},
   "outputs": [
    {
     "name": "stdout",
     "output_type": "stream",
     "text": [
      "invoice_number            object\n",
      "Name                      object\n",
      "invoice_time      datetime64[ns]\n",
      "Products                  object\n",
      "num_item                 float64\n",
      "price                    float64\n",
      "Discount%                  int64\n",
      "Delivery Fee%              int64\n",
      "Brand                     object\n",
      "total                    float64\n",
      "dtype: object\n"
     ]
    }
   ],
   "source": [
    "# Convert the 'invoice_time' column to datetime type\n",
    "df['invoice_time'] = pd.to_datetime(df['invoice_time'])\n",
    "\n",
    "# Print out the data types of each column to check the conversion\n",
    "print(df.dtypes)"
   ]
  },
  {
   "cell_type": "markdown",
   "metadata": {},
   "source": [
    "Next, let's create columns called \"DOW\" and \"Month\", which store the corresponding weekday and month of the invoice respectively.  Print the head of the dataframe to make sure this was done correctly."
   ]
  },
  {
   "cell_type": "code",
   "execution_count": 24,
   "metadata": {},
   "outputs": [
    {
     "name": "stdout",
     "output_type": "stream",
     "text": [
      "         invoice_number    Name invoice_time             Products  num_item  \\\n",
      "0  OD103719706054443200  G3M1R1   2015-08-23   Kitchen Appliances       1.0   \n",
      "1  OD106420064045076000  G3M1R1   2016-07-01          Health Care       1.0   \n",
      "2  OD106420064045076001  G3M1R1   2016-07-01                Books       1.0   \n",
      "3  OD109711988579254000  G3M1R2   2017-07-17  Fitness Accessories       1.0   \n",
      "4  OD109711988579254000  G3M1R2   2017-07-18   Health Supplements       1.0   \n",
      "\n",
      "     price  Discount%  Delivery Fee%       Brand    total      DOW   Month  \n",
      "0  1370.33          0             13        Nova  1370.33   Sunday  August  \n",
      "1  1164.76          0              9       Omron  1164.76   Friday    July  \n",
      "2   596.67          0             23     Johnson   596.67   Friday    July  \n",
      "3   199.00          0              0       HAANS   199.00   Monday    July  \n",
      "4  4162.00          0              0  Muscletech  4162.00  Tuesday    July  \n"
     ]
    }
   ],
   "source": [
    "# Create a 'DOW' column which stores the day of the week\n",
    "df['DOW'] = df['invoice_time'].dt.day_name()\n",
    "\n",
    "# Create a 'Month' column which stores the month\n",
    "df['Month'] = df['invoice_time'].dt.month_name()\n",
    "\n",
    "# Print the head of the dataframe to verify the changes\n",
    "print(df.head())"
   ]
  },
  {
   "cell_type": "markdown",
   "metadata": {},
   "source": [
    "Create a variable called num_purchases_wed, which stores the number of purchases made on Wednesday?  You should use value_counts and then index the series it return."
   ]
  },
  {
   "cell_type": "code",
   "execution_count": 3,
   "metadata": {},
   "outputs": [],
   "source": [
    "# df['DOW'].value_counts() returns a series where the indices are the days of the week\n",
    "# and the values are the counts of occurrences of each day.\n",
    "num_purchases_wed = df['DOW'].value_counts()['Wednesday']\n",
    "print(num_purchases_wed)"
   ]
  },
  {
   "cell_type": "markdown",
   "metadata": {},
   "source": [
    "In this set of practice exercises, we will be working with a demographic data regarding the passengers aboard the Titanic.  Read in the data frame and use the head() method to check that it was read in correctly."
   ]
  },
  {
   "cell_type": "code",
   "execution_count": 4,
   "metadata": {},
   "outputs": [],
   "source": [
    "# Read in the Titanic dataset\n",
    "df_titanic = pd.read_csv(\"Titanic.csv\")\n",
    "\n",
    "# Use the head() method to display the first few rows of the dataframe\n",
    "print(df_titanic.head())"
   ]
  },
  {
   "cell_type": "markdown",
   "metadata": {},
   "source": [
    "Use the rename method to change the column \"Name\" to \"Passenger_Name\" and the column \"Ticket\" to \"Ticket_Num\"."
   ]
  },
  {
   "cell_type": "code",
   "execution_count": 26,
   "metadata": {},
   "outputs": [
    {
     "name": "stdout",
     "output_type": "stream",
     "text": [
      "   PassengerId  Pclass                                Passenger_Name     Sex  \\\n",
      "0          892       3                              Kelly, Mr. James    male   \n",
      "1          893       3              Wilkes, Mrs. James (Ellen Needs)  female   \n",
      "2          894       2                     Myles, Mr. Thomas Francis    male   \n",
      "3          895       3                              Wirz, Mr. Albert    male   \n",
      "4          896       3  Hirvonen, Mrs. Alexander (Helga E Lindqvist)  female   \n",
      "\n",
      "    Age  SibSp  Parch Ticket_Num     Fare Cabin Embarked  \n",
      "0  34.5      0      0     330911   7.8292   NaN        Q  \n",
      "1  47.0      1      0     363272   7.0000   NaN        S  \n",
      "2  62.0      0      0     240276   9.6875   NaN        Q  \n",
      "3  27.0      0      0     315154   8.6625   NaN        S  \n",
      "4  22.0      1      1    3101298  12.2875   NaN        S  \n"
     ]
    }
   ],
   "source": [
    "# Read in the Titanic dataset\n",
    "df_titanic = pd.read_csv(\"Titanic.csv\", header=0)\n",
    "\n",
    "# Then, proceed with renaming the columns\n",
    "df_titanic = df_titanic.rename(columns={\n",
    "    'Name': 'Passenger_Name',\n",
    "    'Ticket': 'Ticket_Num'\n",
    "})\n",
    "\n",
    "# Display the first few rows to confirm the changes\n",
    "print(df_titanic.head())"
   ]
  },
  {
   "cell_type": "markdown",
   "metadata": {},
   "source": [
    "Change the index of the df_titanic to the column PasengerID."
   ]
  },
  {
   "cell_type": "code",
   "execution_count": 27,
   "metadata": {
    "scrolled": true
   },
   "outputs": [
    {
     "name": "stdout",
     "output_type": "stream",
     "text": [
      "             Pclass                                Passenger_Name     Sex  \\\n",
      "PassengerId                                                                 \n",
      "892               3                              Kelly, Mr. James    male   \n",
      "893               3              Wilkes, Mrs. James (Ellen Needs)  female   \n",
      "894               2                     Myles, Mr. Thomas Francis    male   \n",
      "895               3                              Wirz, Mr. Albert    male   \n",
      "896               3  Hirvonen, Mrs. Alexander (Helga E Lindqvist)  female   \n",
      "\n",
      "              Age  SibSp  Parch Ticket_Num     Fare Cabin Embarked  \n",
      "PassengerId                                                         \n",
      "892          34.5      0      0     330911   7.8292   NaN        Q  \n",
      "893          47.0      1      0     363272   7.0000   NaN        S  \n",
      "894          62.0      0      0     240276   9.6875   NaN        Q  \n",
      "895          27.0      0      0     315154   8.6625   NaN        S  \n",
      "896          22.0      1      1    3101298  12.2875   NaN        S  \n"
     ]
    }
   ],
   "source": [
    "# Set the index to 'PassengerId'\n",
    "df_titanic.set_index('PassengerId', inplace=True)\n",
    "\n",
    "# Display the first few rows to confirm the changes\n",
    "print(df_titanic.head())"
   ]
  },
  {
   "cell_type": "markdown",
   "metadata": {},
   "source": [
    "Select the name of passenger 896"
   ]
  },
  {
   "cell_type": "code",
   "execution_count": 28,
   "metadata": {},
   "outputs": [
    {
     "name": "stdout",
     "output_type": "stream",
     "text": [
      "Hirvonen, Mrs. Alexander (Helga E Lindqvist)\n"
     ]
    }
   ],
   "source": [
    "# Assuming the column for names is 'Passenger_Name' after renaming\n",
    "passenger_name = df_titanic.loc[896, 'Passenger_Name']\n",
    "print(passenger_name)"
   ]
  },
  {
   "cell_type": "markdown",
   "metadata": {},
   "source": [
    "Change the index back to row numbers but making sure that we don't lose the PassengerId column. "
   ]
  },
  {
   "cell_type": "code",
   "execution_count": 30,
   "metadata": {},
   "outputs": [],
   "source": [
    "# To reset the index of the df_titanic dataframe back to row numbers without losing the PassengerId column, \n",
    "# you can use the reset_index() method. By default, this method retains the previous index as a new column.\n",
    "df_titanic = df_titanic.reset_index()"
   ]
  },
  {
   "cell_type": "markdown",
   "metadata": {},
   "source": [
    "How many missing entries are there in the Age column? Use the isnull() method and recall than Booleans are exactly like 1s (True) and 0s (False)."
   ]
  },
  {
   "cell_type": "code",
   "execution_count": 29,
   "metadata": {},
   "outputs": [
    {
     "name": "stdout",
     "output_type": "stream",
     "text": [
      "86\n"
     ]
    }
   ],
   "source": [
    "# To find the number of missing entries in the Age column use the isnull() method followed by the sum() method. \n",
    "# When applied to a Boolean series, the sum() method counts the number of True values.\n",
    "missing_age_entries = df_titanic['Age'].isnull().sum()\n",
    "print(missing_age_entries)"
   ]
  },
  {
   "cell_type": "markdown",
   "metadata": {},
   "source": [
    "Compute the avg age of passengers ignoring the missing data."
   ]
  },
  {
   "cell_type": "code",
   "execution_count": 31,
   "metadata": {},
   "outputs": [
    {
     "name": "stdout",
     "output_type": "stream",
     "text": [
      "30.272590361445783\n"
     ]
    }
   ],
   "source": [
    "#  mean() method directly on the 'Age' column, the mean() function in pandas will ignore NaN (missing) values.\n",
    "avg_age = df_titanic['Age'].mean()\n",
    "print(avg_age)"
   ]
  },
  {
   "cell_type": "markdown",
   "metadata": {},
   "source": [
    "Using the fillna() method replace the missing values in the Age column with the mean."
   ]
  },
  {
   "cell_type": "code",
   "execution_count": 32,
   "metadata": {},
   "outputs": [
    {
     "name": "stdout",
     "output_type": "stream",
     "text": [
      "0\n"
     ]
    }
   ],
   "source": [
    "# Calculate the mean age\n",
    "mean_age = df_titanic['Age'].mean()\n",
    "\n",
    "# Replace NaN values in the 'Age' column with the mean age\n",
    "df_titanic['Age'].fillna(mean_age, inplace=True)\n",
    "\n",
    "# Verify that the NaN values have been replaced\n",
    "print(df_titanic['Age'].isnull().sum())  # This should print 0 if all missing values have been replaced"
   ]
  },
  {
   "cell_type": "markdown",
   "metadata": {},
   "source": [
    "What is the average age of the 5 oldest passengers? The reset_index method will be helpful here."
   ]
  },
  {
   "cell_type": "code",
   "execution_count": 33,
   "metadata": {},
   "outputs": [
    {
     "name": "stdout",
     "output_type": "stream",
     "text": [
      "67.0\n"
     ]
    }
   ],
   "source": [
    "# Sort the DataFrame by the 'Age' column in descending order and reset the index\n",
    "sorted_df = df_titanic.sort_values(by='Age', ascending=False).reset_index(drop=True)\n",
    "\n",
    "# Compute the average age of the 5 oldest passengers\n",
    "avg_age_top5 = sorted_df['Age'].head(5).mean()\n",
    "\n",
    "print(avg_age_top5)"
   ]
  }
 ],
 "metadata": {
  "kernelspec": {
   "display_name": "Python 3 (ipykernel)",
   "language": "python",
   "name": "python3"
  },
  "language_info": {
   "codemirror_mode": {
    "name": "ipython",
    "version": 3
   },
   "file_extension": ".py",
   "mimetype": "text/x-python",
   "name": "python",
   "nbconvert_exporter": "python",
   "pygments_lexer": "ipython3",
   "version": "3.11.4"
  },
  "toc": {
   "nav_menu": {
    "height": "48px",
    "width": "252px"
   },
   "number_sections": true,
   "sideBar": true,
   "skip_h1_title": false,
   "toc_cell": false,
   "toc_position": {},
   "toc_section_display": "block",
   "toc_window_display": false
  }
 },
 "nbformat": 4,
 "nbformat_minor": 2
}
